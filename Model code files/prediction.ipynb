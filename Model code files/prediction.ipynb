{
 "cells": [
  {
   "cell_type": "code",
   "execution_count": 1,
   "metadata": {},
   "outputs": [],
   "source": [
    "from tensorflow.keras.models import load_model   #can use joblib\n",
    "import numpy as np\n",
    "import cv2\n",
    "model = load_model('chahat.h5')\n",
    "model.compile(optimizer = 'adam',loss='categorical_crossentropy',metrics=['accuracy']) "
   ]
  },
  {
   "cell_type": "code",
   "execution_count": 2,
   "metadata": {},
   "outputs": [],
   "source": [
    "from skimage.transform import resize\n",
    "def detect(frame):\n",
    "    try:\n",
    "        img = resize(frame,(64,64))\n",
    "        img = np.expand_dims(img,axis=0)\n",
    "        if(np.max(img)>1):\n",
    "            img = img/255.0\n",
    "        prediction = model.predict(img)    \n",
    "        print(prediction)\n",
    "        prediction_class = model.predict_classes(img)\n",
    "        print(prediction_class)   #gives class name\n",
    "    except AttributeError:\n",
    "        print(\"Shape not found\")"
   ]
  },
  {
   "cell_type": "code",
   "execution_count": 3,
   "metadata": {},
   "outputs": [
    {
     "name": "stdout",
     "output_type": "stream",
     "text": [
      "[[1.5928933e-01 2.4604335e-10 6.1281568e-01 8.5594017e-08 2.2789493e-01]]\n",
      "[2]\n"
     ]
    }
   ],
   "source": [
    "frame = cv2.imread(r'C:\\Users\\chaha\\Desktop\\dataset\\testset\\humming_birds\\humm.jpg') #to read image\n",
    "data = detect(frame)"
   ]
  },
  {
   "cell_type": "code",
   "execution_count": 4,
   "metadata": {},
   "outputs": [
    {
     "name": "stdout",
     "output_type": "stream",
     "text": [
      "[[6.5388152e-19 5.1672263e-26 5.8866076e-27 1.6581654e-20 1.0000000e+00]]\n",
      "[4]\n"
     ]
    }
   ],
   "source": [
    "frame = cv2.imread(r'C:\\Users\\chaha\\Desktop\\dataset\\testset\\parrots\\3.jpg') #to read image\n",
    "data = detect(frame)"
   ]
  },
  {
   "cell_type": "code",
   "execution_count": 5,
   "metadata": {},
   "outputs": [
    {
     "name": "stdout",
     "output_type": "stream",
     "text": [
      "[[1.0000000e+00 3.3575107e-13 4.9580945e-10 8.4512446e-11 1.1969730e-12]]\n",
      "[0]\n"
     ]
    }
   ],
   "source": [
    "frame = cv2.imread(r'C:\\Users\\chaha\\Desktop\\dataset\\testset\\doves\\50.jpg') #to read image\n",
    "data = detect(frame)"
   ]
  },
  {
   "cell_type": "code",
   "execution_count": 8,
   "metadata": {},
   "outputs": [
    {
     "name": "stdout",
     "output_type": "stream",
     "text": [
      "[[4.2332880e-02 1.6355910e-06 8.6131605e-12 9.5766550e-01 3.9514881e-11]]\n",
      "[3]\n"
     ]
    }
   ],
   "source": [
    "frame = cv2.imread(r'C:\\Users\\chaha\\Desktop\\dataset\\testset\\owls\\3.jpg') #to read image\n",
    "data = detect(frame)"
   ]
  },
  {
   "cell_type": "code",
   "execution_count": null,
   "metadata": {},
   "outputs": [],
   "source": []
  },
  {
   "cell_type": "code",
   "execution_count": null,
   "metadata": {},
   "outputs": [],
   "source": []
  }
 ],
 "metadata": {
  "kernelspec": {
   "display_name": "Python 3",
   "language": "python",
   "name": "python3"
  },
  "language_info": {
   "codemirror_mode": {
    "name": "ipython",
    "version": 3
   },
   "file_extension": ".py",
   "mimetype": "text/x-python",
   "name": "python",
   "nbconvert_exporter": "python",
   "pygments_lexer": "ipython3",
   "version": "3.7.6"
  }
 },
 "nbformat": 4,
 "nbformat_minor": 4
}
